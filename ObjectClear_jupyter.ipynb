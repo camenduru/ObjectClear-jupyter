{
 "cells": [
  {
   "cell_type": "markdown",
   "metadata": {
    "id": "view-in-github"
   },
   "source": [
    "[![Open In Colab](https://colab.research.google.com/assets/colab-badge.svg)](https://colab.research.google.com/github/camenduru/ObjectClear-jupyter/blob/main/ObjectClear_jupyter.ipynb)"
   ]
  },
  {
   "cell_type": "code",
   "execution_count": null,
   "metadata": {},
   "outputs": [],
   "source": [
    "%cd /content\n",
    "!git clone -b dev https://github.com/camenduru/ObjectClear-hf\n",
    "%cd /content/ObjectClear-hf\n",
    "!pip install accelerate diffusers segment-anything gradio\n",
    "!wget https://huggingface.co/spaces/jixin0101/ObjectClear/resolve/main/Logo.png\n",
    "\n",
    "%cd /content/ObjectClear-hf/examples\n",
    "\n",
    "!wget https://huggingface.co/spaces/jixin0101/ObjectClear/resolve/main/examples/test0.png\n",
    "!wget https://huggingface.co/spaces/jixin0101/ObjectClear/resolve/main/examples/test1.png\n",
    "!wget https://huggingface.co/spaces/jixin0101/ObjectClear/resolve/main/examples/test2.png\n",
    "!wget https://huggingface.co/spaces/jixin0101/ObjectClear/resolve/main/examples/test3.png\n",
    "!wget https://huggingface.co/spaces/jixin0101/ObjectClear/resolve/main/examples/test4.png\n",
    "!wget https://huggingface.co/spaces/jixin0101/ObjectClear/resolve/main/examples/test5.png\n",
    "!wget https://huggingface.co/spaces/jixin0101/ObjectClear/resolve/main/examples/test6.png\n",
    "!wget https://huggingface.co/spaces/jixin0101/ObjectClear/resolve/main/examples/test7.png\n",
    "!wget https://huggingface.co/spaces/jixin0101/ObjectClear/resolve/main/examples/test8.png\n",
    "!wget https://huggingface.co/spaces/jixin0101/ObjectClear/resolve/main/examples/test9.png\n",
    "\n",
    "%cd /content/ObjectClear-hf\n",
    "!python app.py"
   ]
  }
 ],
 "metadata": {
  "accelerator": "GPU",
  "colab": {
   "gpuType": "T4",
   "provenance": []
  },
  "kernelspec": {
   "display_name": "Python 3",
   "name": "python3"
  },
  "language_info": {
   "name": "python"
  }
 },
 "nbformat": 4,
 "nbformat_minor": 0
}
